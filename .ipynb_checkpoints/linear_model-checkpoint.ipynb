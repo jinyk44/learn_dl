{
 "cells": [
  {
   "cell_type": "markdown",
   "metadata": {},
   "source": [
    "# Linear Model implementation using PyTorch"
   ]
  },
  {
   "cell_type": "code",
   "execution_count": 27,
   "metadata": {},
   "outputs": [],
   "source": [
    "import torch\n",
    "from data.synthetic import make_linear_data\n",
    "from data.utils import data_iter\n",
    "from src.utils import squared_loss,sgd,linreg"
   ]
  },
  {
   "cell_type": "code",
   "execution_count": 28,
   "metadata": {},
   "outputs": [],
   "source": [
    "true_w = torch.tensor([2,1],dtype = torch.float32)\n",
    "true_b = 4.2"
   ]
  },
  {
   "cell_type": "code",
   "execution_count": 29,
   "metadata": {},
   "outputs": [],
   "source": [
    "features,labels = make_linear_data(true_w,true_b,1000)\n",
    "batch_size = 10"
   ]
  },
  {
   "cell_type": "code",
   "execution_count": 30,
   "metadata": {},
   "outputs": [],
   "source": [
    "# Initialization parameters\n",
    "w = torch.normal(0,1,size=(2,1),requires_grad = True)\n",
    "b = torch.zeros(1,requires_grad = True)"
   ]
  },
  {
   "cell_type": "code",
   "execution_count": 31,
   "metadata": {},
   "outputs": [],
   "source": [
    "lr = 0.1\n",
    "num_epochs = 3\n",
    "net = linreg\n",
    "loss = squared_loss"
   ]
  },
  {
   "cell_type": "code",
   "execution_count": 32,
   "metadata": {},
   "outputs": [
    {
     "name": "stdout",
     "output_type": "stream",
     "text": [
      "epoch 1 loss: 4.877377432421781e-05\n",
      "epoch 2 loss: 5.0412199925631285e-05\n",
      "epoch 3 loss: 5.204037734074518e-05\n"
     ]
    }
   ],
   "source": [
    "# Traning Step\n",
    "for epoch in range(num_epochs):\n",
    "    for X,y in data_iter(features,labels,batch_size):\n",
    "        l = loss(y,net(X,w,b))\n",
    "        l.sum().backward()\n",
    "        sgd(batch_size,lr,(w,b))\n",
    "    with torch.no_grad():\n",
    "        print(f'epoch {epoch+1} loss: {loss(labels,net(features,w,b)).sum()/len(features)}')"
   ]
  },
  {
   "cell_type": "code",
   "execution_count": null,
   "metadata": {},
   "outputs": [],
   "source": []
  },
  {
   "cell_type": "code",
   "execution_count": null,
   "metadata": {},
   "outputs": [],
   "source": []
  },
  {
   "cell_type": "code",
   "execution_count": null,
   "metadata": {},
   "outputs": [],
   "source": []
  }
 ],
 "metadata": {
  "kernelspec": {
   "display_name": "Python 3",
   "language": "python",
   "name": "python3"
  },
  "language_info": {
   "codemirror_mode": {
    "name": "ipython",
    "version": 3
   },
   "file_extension": ".py",
   "mimetype": "text/x-python",
   "name": "python",
   "nbconvert_exporter": "python",
   "pygments_lexer": "ipython3",
   "version": "3.7.3"
  }
 },
 "nbformat": 4,
 "nbformat_minor": 4
}
